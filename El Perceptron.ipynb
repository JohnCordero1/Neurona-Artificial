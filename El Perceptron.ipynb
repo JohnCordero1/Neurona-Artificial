{
  "nbformat": 4,
  "nbformat_minor": 0,
  "metadata": {
    "colab": {
      "provenance": [],
      "collapsed_sections": [
        "IaRRbpo7CpfB"
      ],
      "authorship_tag": "ABX9TyOkMa+SWDTbpgM444guK/AE"
    },
    "kernelspec": {
      "name": "python3",
      "display_name": "Python 3"
    },
    "language_info": {
      "name": "python"
    }
  },
  "cells": [
    {
      "cell_type": "markdown",
      "source": [
        "# El Perceptrón"
      ],
      "metadata": {
        "id": "IaRRbpo7CpfB"
      }
    },
    {
      "cell_type": "markdown",
      "source": [
        "¿Qué es el perceptrón?\n",
        "\n",
        "El perceptrón es un algoritmo creado por [Rosenblatt, F. (1958)](https://psycnet.apa.org/journals/rev/65/6/386/), el autor de este algoritmo se basa en las ideas de Santiago Ramon y Cajal.\n",
        "\n",
        "Estos últimos autores fueron pioneros en el estudio del funcionamiento del cerebro humano, ya que en su tiempo demostraron, que el cerebro está compuesto de una misma neurona básica, dando un importante avance en el entendimiento de la complejidad del cerebro. Con sus estudios evidenciaron que la complejidad del cerebro resulta no de la complejidad de las células nerviosas, sino de la conectividad que tienen dichas células. Dando lugar a la revolución de la \"Doctrina de la Neurona\".\n",
        "\n",
        "Desde una perspectiva matemática, Rosenblatt se basa en la elaboración del primer modelo matemático de una neurona, desarrollada por [McCulloch, W. S., & Pitts, W. (1943)](https://link.springer.com/article/10.1007/BF02478259).\n",
        "\n",
        "![Imagen](https://miro.medium.com/v2/format:webp/1*WRG_Re8vGVuHDYigtq2IBA.jpeg)\n",
        "\n",
        "Donde $x_i \\in \\mathbb{R}$ y representa las entradas a la neurona artificial; $ω_i$ y $b$ son los pesos sinápticos y el sesgo, respectivamente, que se ajustaran con el algoritmo de aprendizaje y; $\\varphi$ es una función de activación que en este caso se lo llamará función de umbral y nos determinará si pasa un valor."
      ],
      "metadata": {
        "id": "o_NT1dqCDLd1"
      }
    },
    {
      "cell_type": "markdown",
      "source": [
        "De manera general se puede decir que la **neurona artificial** toma $m$ características $x_1, x_2, ..., x_m$ asociados con un **peso sináptico** $ω_1, ω_2, ..., ω_m$, siendo estos números reales que representan la importancia de cada entrada para el valor de salida de la neurona. Por lo tanto, la neurona será la suma ponderada de estos dos elementos:\n",
        "\n",
        "$$\\sum_i x_i ω_i,$$\n",
        "\n",
        "$∀ j \\in \\left\\{ 1, 2, ..., m \\right\\}$. A esta toma de decisión se le puede agregar un sesgo de la propia neurona, tal que se pueda representar de la siguiente manera:\n",
        "\n",
        "$$\\sum_i x_i ω_i + b$$\n",
        "\n",
        "A esta nueva decisión podemos pasarla por una función de activación, de modo que:\n",
        "\n",
        "$$ φ(\\textbf{x}) = \\begin{cases}\n",
        "        0, & \\text{si } \\sum_{j} w_ix_i + b < 0 \\\\\n",
        "1, & \\text{si } \\sum_{j} w_ix_i + b \\geq 0\n",
        "\\end{cases}$$\n",
        "\n",
        "donde $\\textbf{x}=x_1, x_2, ..., x_m$ y $j \\in \\left\\{ 1, 2, ..., m \\right\\}$.\n",
        "\n",
        "\n",
        "De esta forma se permite que la neurona dispare o no una señal dentro del conjunto 0 o 1."
      ],
      "metadata": {
        "id": "a4FWCNxoK_Mr"
      }
    },
    {
      "cell_type": "markdown",
      "source": [
        "Es de esta manera que llegamos a describir al **perceptrón** como un algoritmo creado por Rosenblatt, donde entrenar redes neuronales significa cambiar los pesos sinápticos y el sesgo con el objetivo de predecir los valores de salida.\n",
        "\n",
        "Dado un conjunto de datos $D= \\left\\{ (x^{(1)}, y^{(1)}), (x^{(2)}, y^{(2)}), ..., (x^{(p)}, y^{(p)}) \\right\\}$, donde $x^{(i)} \\in \\mathbb{R}^n$, $y^{(i)} \\in \\left\\{ 0, 1 \\right\\}$\n",
        "\n",
        "$x^{(i)}$ representa un vector de caracteristicas para un único individuo y $y^{(i)}$ representa una salida para dicho individuo.\n",
        "\n",
        "A partir del perceptrón se tendrá un ciclo por épocas, siempre y cuando las variables sean separables este algoritmo converjera."
      ],
      "metadata": {
        "id": "CfTXgINkZ5Yc"
      }
    },
    {
      "cell_type": "markdown",
      "source": [
        "# Programando el perceptrón"
      ],
      "metadata": {
        "id": "b_S-C0NSVflW"
      }
    },
    {
      "cell_type": "markdown",
      "source": [
        "Para programar tal perceptrón debemos seguir la siguiente regla:\n",
        "\n",
        "\\begin{align}\n",
        "\\hat{y} = \\varphi (w^T x^{(i)} + b) \\\\\n",
        "w + η (y^{(i)} - \\hat{y}) x^{(i)} \\rightarrow w \\\\\n",
        "b + η (y^{(i)} - \\hat{y}) \\rightarrow b \\\\\n",
        "\\end{align}\n",
        "\n",
        "Donde $η$ es un hiperparámetro ajustado por el investigador y pondera cuanto aprenderá de cada ejemplo el algoritmo, a este hiperparámetro se lo conoce como factor de aprendizaje; w es un vector de pesos sinápticos de $n x 1$.\n",
        "\n",
        "De esta forma podemos ir actualizando los pesos sinápticos y el sesgo a medida que el algoritmo no prediga correctamente los valores de salida."
      ],
      "metadata": {
        "id": "mDarcBXSFM20"
      }
    },
    {
      "cell_type": "code",
      "source": [
        "import numpy as np\n",
        "import matplotlib.pyplot as plt"
      ],
      "metadata": {
        "id": "sI4FiQn5WQZw"
      },
      "execution_count": null,
      "outputs": []
    },
    {
      "cell_type": "code",
      "source": [
        "#Creamos una matriz de características de 2x4\n",
        "X = np.array([[0,0,1,1],\n",
        "              [0,1,0,1]])"
      ],
      "metadata": {
        "id": "rGTQ4qqEY0NG"
      },
      "execution_count": null,
      "outputs": []
    },
    {
      "cell_type": "code",
      "source": [
        "X.shape[1] #4columnas"
      ],
      "metadata": {
        "colab": {
          "base_uri": "https://localhost:8080/"
        },
        "id": "95nIDKgMZBav",
        "outputId": "c28c93f8-ca20-425f-f5f3-a2208c6e7a22"
      },
      "execution_count": null,
      "outputs": [
        {
          "output_type": "execute_result",
          "data": {
            "text/plain": [
              "4"
            ]
          },
          "metadata": {},
          "execution_count": 23
        }
      ]
    },
    {
      "cell_type": "code",
      "source": [
        "X[:,0] #primera columna"
      ],
      "metadata": {
        "colab": {
          "base_uri": "https://localhost:8080/"
        },
        "id": "pjyzvyWPaLMg",
        "outputId": "a5767469-4977-4f3e-8c8b-22ea7f5e6b06"
      },
      "execution_count": null,
      "outputs": [
        {
          "output_type": "execute_result",
          "data": {
            "text/plain": [
              "array([0, 0])"
            ]
          },
          "metadata": {},
          "execution_count": 24
        }
      ]
    },
    {
      "cell_type": "code",
      "source": [
        "#Creamos una matriz con los valores deseados que queremos aprender\n",
        "Y = np.array([0,0,1,0])"
      ],
      "metadata": {
        "id": "ER_o2073eeOR"
      },
      "execution_count": null,
      "outputs": []
    },
    {
      "cell_type": "code",
      "source": [
        "class Perceptron:\n",
        "\n",
        "  def __init__(self, n_entrada, factor_aprenddizaje):\n",
        "    self.w = -1 +2 * np.random.rand(n_entrada) # se creara un vector aleatorio entre -1 y 1\n",
        "    self.b = -1 +2 * np.random.rand()\n",
        "    self.eta = factor_aprenddizaje\n",
        "\n",
        "  def predict(self, X): #creamos la funcion para predecir\n",
        "    p = X.shape[1] #Sacamos la segunda coordenada para tener el número de patrones p\n",
        "    y_est = np.zeros(p)\n",
        "    for i in range(p):\n",
        "      y_est[i] = np.dot(self.w,X[:,i]) + self.b #w'x + b\n",
        "      if y_est[i] >= 0: #creamos la funcion de activacion\n",
        "        y_est[i] = 1\n",
        "      else:\n",
        "        y_est[i] = 0\n",
        "    return y_est\n",
        "\n",
        "  def fit(self, X, Y, epocas=100):  #funcion para entrenar (aprender)\n",
        "    p = X.shape[1]\n",
        "    for _ in range(epocas): #_ para que no nos importe la variable\n",
        "      for i in range(p):\n",
        "        y_est = self.predict(X[:,i].reshape(-1,1)) #reshape para que tengamos una matriz bidimensional\n",
        "        #Solo falta las actualizaciones\n",
        "        self.w += self.eta * (Y[i] - y_est) * X[:,i]\n",
        "        self.b += self.eta * (Y[i] - y_est)\n",
        "\n",
        "neurona = Perceptron(2, 0.1) #instanciamos la clase"
      ],
      "metadata": {
        "id": "A_z81WJpVjVw"
      },
      "execution_count": null,
      "outputs": []
    },
    {
      "cell_type": "code",
      "source": [
        "print(neurona.w)\n",
        "print(neurona.b)\n",
        "print(neurona.eta)"
      ],
      "metadata": {
        "colab": {
          "base_uri": "https://localhost:8080/"
        },
        "id": "4ZD3VAFzXysM",
        "outputId": "8112d19d-1492-4c24-8690-955d03441063"
      },
      "execution_count": null,
      "outputs": [
        {
          "output_type": "stream",
          "name": "stdout",
          "text": [
            "[-0.33628585 -0.68648387]\n",
            "0.20385372691004444\n",
            "0.1\n"
          ]
        }
      ]
    },
    {
      "cell_type": "code",
      "source": [
        "#Predecimos con la vector de caracteristicas, para ello usamos el método predict creado en la clase Perceptron\n",
        "neurona.predict(X)\n",
        "#No predijo correctamente el primer elemento de la vaiable Y"
      ],
      "metadata": {
        "colab": {
          "base_uri": "https://localhost:8080/"
        },
        "id": "HyjoaLq0d6jq",
        "outputId": "7df6496b-f29b-42cf-d6ab-de9d3932216b"
      },
      "execution_count": null,
      "outputs": [
        {
          "output_type": "execute_result",
          "data": {
            "text/plain": [
              "array([1., 0., 0., 0.])"
            ]
          },
          "metadata": {},
          "execution_count": 28
        }
      ]
    },
    {
      "cell_type": "code",
      "source": [
        "#Entrenamos el modelo para ajustar las predicciones, para ello usamos el método fit creado en la clase Perceptron\n",
        "neurona.fit(X,Y)"
      ],
      "metadata": {
        "id": "4ZCesW76h1m9"
      },
      "execution_count": null,
      "outputs": []
    },
    {
      "cell_type": "code",
      "source": [
        "#para ver si ya aprendió, volvemos a hacer una nueva prediccion\n",
        "neurona.predict(X)\n",
        "# Y en efecto la neurona aprendió, ya que podemos observar que predijo correctamente los 4 alementos de la variable Y"
      ],
      "metadata": {
        "colab": {
          "base_uri": "https://localhost:8080/"
        },
        "id": "kz9IfhyPiT9E",
        "outputId": "5b280103-6a0b-49b2-d196-8a0929a6f72b"
      },
      "execution_count": null,
      "outputs": [
        {
          "output_type": "execute_result",
          "data": {
            "text/plain": [
              "array([0., 0., 1., 0.])"
            ]
          },
          "metadata": {},
          "execution_count": 30
        }
      ]
    },
    {
      "cell_type": "markdown",
      "source": [
        "# Gráfica"
      ],
      "metadata": {
        "id": "Vc92NI4Xay2k"
      }
    },
    {
      "cell_type": "code",
      "source": [
        "#podemos crear una funcion para graficar la neurona (linealmente separable)\n",
        "def draw_2d(model):\n",
        "  w1, w2, b = model.w[0], model.w[1], model.b\n",
        "  li, ls = -2, 2 #dibujamos de -2 a +2\n",
        "  plt.plot([li, ls],[(1/w2)*(-w1*(li)-b),(1/w2)*(-w1*(ls)-b)], '--k')\n",
        "\n",
        "_,p = X.shape\n",
        "for i in range(p):\n",
        "  if Y[i] == 0:\n",
        "    plt.plot(X[0,i], X[1,i], 'or') #orojo\n",
        "  else:\n",
        "    plt.plot(X[0,i], X[1,i], 'ob') #oblue\n",
        "\n",
        "\n",
        "plt.title(\"Perceptrón\")\n",
        "plt.xlabel('$X_1$')\n",
        "plt.ylabel('$X_2$')\n",
        "plt.xlim([-2,2])\n",
        "plt.ylim([-2,2])\n",
        "plt.grid(linestyle = \"dashed\")\n",
        "\n",
        "draw_2d(neurona)"
      ],
      "metadata": {
        "colab": {
          "base_uri": "https://localhost:8080/",
          "height": 475
        },
        "id": "2cTyLUcSauxw",
        "outputId": "3a09be90-ffc4-491a-8318-7d9389adedb1"
      },
      "execution_count": null,
      "outputs": [
        {
          "output_type": "display_data",
          "data": {
            "text/plain": [
              "<Figure size 640x480 with 1 Axes>"
            ],
            "image/png": "[encoded data removed]"
          },
          "metadata": {}
        }
      ]
    },
    {
      "cell_type": "markdown",
      "source": [
        "Gráficamente podemos observar que nuestra neurona clasificó correctamente a los valores de Salida Y . Podemos dar diferentes valores a Y, que tomen los valores de 0 o 1, y visualizarlo para observar lo bien que clasifica la neurona. También, para hacer mucho más entretenido esto, podemos aumentar el número de filas a la matriz de caracteristicas X; sin embargo, puede que llegue un punto donde la neurona no sea capaz de clasificar correctamente debido a la linealidad de esta."
      ],
      "metadata": {
        "id": "z7S1Fo61hFhU"
      }
    },
    {
      "cell_type": "code",
      "source": [],
      "metadata": {
        "id": "YhSKlcoZi_bz"
      },
      "execution_count": null,
      "outputs": []
    }
  ]
}
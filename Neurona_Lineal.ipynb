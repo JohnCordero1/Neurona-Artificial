{
  "nbformat": 4,
  "nbformat_minor": 0,
  "metadata": {
    "colab": {
      "provenance": [],
      "collapsed_sections": [
        "CYsju-IqsDU4",
        "DQ85vHUlsp6n"
      ],
      "authorship_tag": "ABX9TyNJ2BzD/zYgCk/++WqjiZLO"
    },
    "kernelspec": {
      "name": "python3",
      "display_name": "Python 3"
    },
    "language_info": {
      "name": "python"
    }
  },
  "cells": [
    {
      "cell_type": "markdown",
      "source": [
        "# Neurona Lineal"
      ],
      "metadata": {
        "id": "CYsju-IqsDU4"
      }
    },
    {
      "cell_type": "markdown",
      "source": [
        "Una vez visto el **algoritmo del perceptrón**, cabe preguntarnos si podemos utilizar técnicas de optimización matemática sobre este, la respuesta corta es no, porqué la funcion de activación (función de umbral) es no diferenciable, pues esta función solo toma valores de cero o uno.\n",
        "\n",
        "Para usar las técnicas de optimización debemos modificar un poco la arquitectura que tiene el perceptrón, para ello quitaremos la función de activación, de tal modo que como valor predicho solo quede la combinación lineal de la matriz de caracteristicas y el vector de pesos sinápticos mas un sesgo.\n",
        "\n",
        "$$\\sum_i x_i w_i + b$$\n",
        "\n",
        "Es decir, la función de activación es una función lineal.\n",
        "\n",
        "$$φ(\\textbf{x}) = \\sum_i x_i w_i + b$$\n",
        "\n",
        "A este algoritmo también se lo conoce por el nombre de \"adaptive linear element\" (ADALINE) o regla de Widrow Hoft en honor a su creador.\n",
        "\n",
        "El modelo matemático de la neurona es:\n",
        "\n",
        "$$\\hat{y}=w^T x+b$$\n",
        "\n",
        "De modo que la salida de la neurona ya no sera de forma discreta, como lo teniamos en el perceptrón, sino que tendremos una salida continua, $y^{(i)} \\in \\mathbb{R}$; para los elementos de la matriz de caracteristicas se tendrá el mismo conjunto, $x^{(i)} \\in \\mathbb{R}^m$.\n",
        "\n",
        "Por lo tanto, dado la naturaleza de esta nueva neurona, lo podremos usar para problemas de regresión. Para este nuevo problema se debe desarrollar un nuevo algoritmo para poder entrenarlo, para ello se usará técnicas de optimización."
      ],
      "metadata": {
        "id": "3qNhiyz6lGWZ"
      }
    },
    {
      "cell_type": "markdown",
      "source": [
        "# Gradiente descendente en linea"
      ],
      "metadata": {
        "id": "DQ85vHUlsp6n"
      }
    },
    {
      "cell_type": "markdown",
      "source": [
        "Para resolver este problema de optimización debemos generar el error $e_1 = y - \\hat{y}$, y como queremos que se minimice este error, con tal de que los valores predichos esten lo mas cerca posible de los valores reales, podemos utilizar la siguiente función de perdida:\n",
        "\n",
        "$$e_1 = L(y,\\hat{y}) = \\frac{1}{2} (y - \\hat{y})^2$$\n",
        "\n",
        "Ahora si podemos buscar el $argmin$ de la función:\n",
        "\n",
        "$$\\frac{∂ L(y,\\hat{y}) }{∂ w_i} = - (y - \\hat{y}) x_i$$\n",
        "\n",
        "$$\\frac{∂ L(y,\\hat{y}) }{∂ b} = - (y - \\hat{y})$$\n",
        "\n",
        "Consiguientemente, podemos vectorizar las derivadas parciales con respecto a los pesos sinápticos, al cual se lo conoce como gradiente:\n",
        "\n",
        "$$∇_w L(y,\\hat{y}) = - (y - \\hat{y}) x$$\n",
        "\n",
        "Donde $x$ es un vector de $m x 1$.\n",
        "\n",
        "\n",
        "De este modo, podemos llegar a las siguientes ecuaciones para entrenar el algoritmo:\n",
        "\n",
        "\\begin{align}\n",
        "\\hat{y} = w^T x + b \\\\\n",
        "w + η (y - \\hat{y}) x \\rightarrow w \\\\\n",
        "b + η (y - \\hat{y}) \\rightarrow b \\\\\n",
        "\\end{align}\n"
      ],
      "metadata": {
        "id": "6GjNQpaYszpm"
      }
    },
    {
      "cell_type": "markdown",
      "source": [
        "# Gradiente descendente por lote"
      ],
      "metadata": {
        "id": "1b50gGp7VqYD"
      }
    },
    {
      "cell_type": "markdown",
      "source": [
        "Otra función de costo que podemos utilizar es el siguiente:\n",
        "\n",
        "$$e_2 = \\frac{1}{2 p} \\sum_{i=1}^p (y^{(i)} - \\hat{y}^{(i)})^2$$\n",
        "\n",
        "donde $y^{(i)}$ representa las salidas deseadas y $\\hat{y}^{(i)}= w x^{(i)} + b$ son los valores predichos. Ahora debemos encontrar el gradiente para este nuevo error:\n",
        "\n",
        "$$\\nabla_w e_2 = - \\frac{1}{p} \\sum_{i=1}^p\\left[(y^{(i)} - \\hat{y}^{(i)})x^{(i)}\\right]$$\n",
        "\n",
        "$$\\frac{\\partial}{\\partial b} e_2 = \\frac{1}{p} \\sum_{i=1}^p\\left[(y^{(i)} - \\hat{y}^{(i)})\\right]$$\n",
        "\n",
        "Como tenemos una suma de vectores podemos llevarla a una forma matricial:\n",
        "\n",
        "$$\\nabla_w e_2 = - \\frac{1}{p} (Y - \\hat{Y}) X^T $$\n",
        "\n",
        "$$\\frac{\\partial}{\\partial b} e_2 = - \\frac{1}{p} \\sum_{i=1}^p(Y - \\hat{Y})$$\n",
        "\n",
        "Donde $Y, \\hat{Y}$ son vectores de $1xp$ y $X$ es una matriz de $nxp$.\n",
        "\n",
        "De este modo podemos definir las siguientes ecuaciones para entrenar con el algoritmo:\n",
        "\n",
        "\\begin{align}\n",
        "\\hat{Y} = w X + b \\\\\n",
        "w + \\frac{η}{p} (Y - \\hat{Y}) X^T \\rightarrow w \\\\\n",
        "b + \\frac{η}{p} \\sum_{i=1}^p\\left[y^{(i)} - \\hat{y}^{(i)}\\right] \\rightarrow b \\\\\n",
        "\\end{align}"
      ],
      "metadata": {
        "id": "MboNBkPxV0U4"
      }
    },
    {
      "cell_type": "markdown",
      "source": [
        "# Programando la neurona lineal"
      ],
      "metadata": {
        "id": "uWuLPlBHOJAb"
      }
    },
    {
      "cell_type": "code",
      "source": [
        "import numpy as np\n",
        "import matplotlib.pyplot as plt"
      ],
      "metadata": {
        "id": "JGLU5U33OIUd"
      },
      "execution_count": 1,
      "outputs": []
    },
    {
      "cell_type": "code",
      "source": [
        "class Neurona_lineal:\n",
        "  def __init__(self, n_entrada, factor_aprendizaje=0.1):\n",
        "    self.w = -1 +2 * np.random.rand(n_entrada) # se creara un vector aleatorio entre -1 y 1\n",
        "    self.b = -1 +2 * np.random.rand()\n",
        "    self.eta = factor_aprendizaje\n",
        "\n",
        "  #Creando el método de prediccion\n",
        "  def predict(self, X):\n",
        "    y_est = np.dot(self.w, X) + self.b\n",
        "    return y_est\n",
        "\n",
        "  #Creando el metodo para entrenar\n",
        "  def fit(self, X, Y, epochs=100, solver='SGD'):\n",
        "    p = X.shape[1] #sacamos el indice 1 de X, el número de patrones\n",
        "    if solver == 'SGD': #SGD=Gradiente descendente en en linea (estocástico)\n",
        "      for _ in range(epochs):\n",
        "        for i in range(p):\n",
        "          y_est = self.predict(X[:, i])\n",
        "          #las actualizaciones\n",
        "          self.w += self.eta * (Y[:,i] - y_est)*X[:,i]\n",
        "          self.b += self.eta * (Y[:,i] - y_est)\n",
        "    elif solver == 'BGD': #BGD=Gradiente descendente por lote (Batch)\n",
        "      for _ in range(epochs):\n",
        "        Y_est = self.predict(X)\n",
        "        #las actualizaciones\n",
        "        self.w += (self.eta/p) * np.dot ((Y-Y_est), X.T).ravel()\n",
        "        self.b += (self.eta/p) *np.sum(Y-Y_est)\n",
        "    else: #metodo directo\n",
        "      X_hat = np.concatenate((np.ones(1,p), X), axis = 0) #concatenamos una fila de 1\n",
        "      w_hat = np.dot(Y.reshape(1,-1), np.linalg.pinv(X_hat))\n",
        "      #actualizaciones\n",
        "      self.w = w_hat[0, 1:]\n",
        "      self.b = w_hat[0,0]"
      ],
      "metadata": {
        "id": "7q89hA_UOkoX"
      },
      "execution_count": 12,
      "outputs": []
    },
    {
      "cell_type": "code",
      "source": [
        "#Ahora podemos instanciar la clase y usar sus metodos\n",
        "neurona = Neurona_lineal(1)\n",
        "neurona.predict(x)\n",
        "neurona.fit(x,y)"
      ],
      "metadata": {
        "id": "r9PqVLQzo1Sw"
      },
      "execution_count": 30,
      "outputs": []
    },
    {
      "cell_type": "code",
      "source": [
        "p=200\n",
        "x = -1 +2 * np.random.rand(p).reshape(1,-1)\n",
        "y = -18 *x + 6 +3.5 * np.random.randn(p)\n",
        "plt.plot(x,y, '.b')\n",
        "xn = np.array([[-1,1]])\n",
        "plt.plot(xn.ravel(), neurona.predict(xn), '--k')"
      ],
      "metadata": {
        "colab": {
          "base_uri": "https://localhost:8080/",
          "height": 447
        },
        "id": "saLMgp1yqpiP",
        "outputId": "d3a2d118-5279-40c1-dc20-f143ec57dee6"
      },
      "execution_count": 31,
      "outputs": [
        {
          "output_type": "execute_result",
          "data": {
            "text/plain": [
              "[<matplotlib.lines.Line2D at 0x78d09952e260>]"
            ]
          },
          "metadata": {},
          "execution_count": 31
        },
        {
          "output_type": "display_data",
          "data": {
            "text/plain": [
              "<Figure size 640x480 with 1 Axes>"
            ],
            "image/png": "[encoded data removed]"
          },
          "metadata": {}
        }
      ]
    },
    {
      "cell_type": "code",
      "source": [],
      "metadata": {
        "id": "HXmVfif8sK8S"
      },
      "execution_count": null,
      "outputs": []
    }
  ]
}
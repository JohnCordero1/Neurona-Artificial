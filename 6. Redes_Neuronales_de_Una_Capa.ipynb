{
  "nbformat": 4,
  "nbformat_minor": 0,
  "metadata": {
    "colab": {
      "provenance": [],
      "authorship_tag": "ABX9TyNUYDl3jpMt93RE7U7aJsnf"
    },
    "kernelspec": {
      "name": "python3",
      "display_name": "Python 3"
    },
    "language_info": {
      "name": "python"
    }
  },
  "cells": [
    {
      "cell_type": "markdown",
      "source": [
        "# Redes Neuronales de Una Capa"
      ],
      "metadata": {
        "id": "ZbhwtVph4ptF"
      }
    },
    {
      "cell_type": "markdown",
      "source": [
        "Es momento de complicar el funcionamiento de las neuronas. Para ello empezaremos a apilar diferentes neuronas, a esta agrupamiento de neuronas es a lo que se le conoce como capas profundas.\n",
        "\n",
        "Primeramente se apilará en una sola capa, con el fin de comprender el funcionamiento de esta red, para luego complejizarlo y colocar más de una capa, que es cuando las redes neuronales tienen un gran poder de aplicación a distintos problemas. La finalidad de estas neuronas sigue siendo la misma, resolver problemas de regresión y calsificación.\n",
        "\n",
        "Una forma de entender el funcionamiento de estas neuronas es, primeramente, cambiando los grafos que teniamos en un inicio. El siguiente diagrama es la representación de una red neuronal de una capa. ¿Qué tiene de distinto con lo que ya habiamos visto anteriormente? La diferencia radica en que cada circulo representa combinación lineal del vector de caracteristicas y los pesos sinápticos y, la función de activación.\n",
        "\n",
        "Un ejemplo de la forma de estas neuronas es la siguiente:\n",
        "![Imagen](https://interactivechaos.com/sites/default/files/2020-11/tutdl_0119.jpg)\n",
        "\n",
        "De esta manera podemos ampliar el poder de nuestras neuronas, por ejemplo, en el caso de la clasificación, si solo tuvieramos una neurona de salida con una función de activación logistica, esta nos diria si una clase pertenece o no a un conjunto de clases; sin embargo, en el caso de que tengamos más de dos clases, una sola neurona de salida ne seria suficiene para poder clasificar correctamente. Es ahi cuando este tipo de neuronas cobran mucha importancia en los problemas del Machine Learning.\n",
        "\n",
        "\n",
        "Generalizando las dimensiones de nuestros datos, estos continuan siendo las mismas, con algunas leves adiciones. El vector de caracteristicas o vector de entradas es tamaño $n$, es decir $x \\in \\mathbb{R}^n$, los pesos  sinápticos comparten la misma dimensión del vector de caracteristicas, $w \\in \\mathbb{R}^n$ y, el sesgo es de tamaño $b \\in \\mathbb{R}$.\n",
        "\n",
        "Como queremos realizar el producto punto de $x$ y $w$, debemos expandir esta notación al caso de multiples neuronas, realizando el mapeo de $\\mathbb{R}^n \\rightarrow \\mathbb{R}^m$. Es decir la matriz de entrada sigue siendo un vector de $n$ dimensiones, $x \\in \\mathbb{R}^n$; la salida es un vector de $m$ dimensiones, $\\hat{y} \\in \\mathbb{R}^m$, el sesgo es un vector de $m$ dimensiones, $b \\in \\mathbb{R}^m$ y, tenemos una matriz de pesos sinápticos de la forna, $w \\in \\mathbb{R}^{m \\times n}$.\n",
        "\n",
        "Por lo tanto, para propagar esta red neuronal sera similar a lo que ya conocemos:\n",
        "\\begin{align}\n",
        "z = w x + b\\\\\n",
        "\\hat{y} = \\varphi (z) \\\\\n",
        "\\end{align}\n",
        "Donde $z$ es un vector de tamaño $m$, y la función de activación se aplicará elemento a elemento de este último vector.\n"
      ],
      "metadata": {
        "id": "ENXb1nIH43_K"
      }
    },
    {
      "cell_type": "markdown",
      "source": [
        "# Entrenamiento"
      ],
      "metadata": {
        "id": "Zou-LXmWPoDf"
      }
    },
    {
      "cell_type": "markdown",
      "source": [
        "Como se observó anteriormente, el entrenamiento depende de la función de costo y la función de activación. De forma general usaremos el error cuadrático medio:\n",
        "\n",
        "$$L(y, \\hat{y}) = \\frac{1}{2p} \\sum_{i=1}^p||y^{(i)} - \\hat{y}^{(i)}||^2_2$$\n",
        "\n",
        "En este caso, tanto $y^{(i)}$ como $\\hat{y}^{(i)}$ son vectores de tamaño $m$, aplicando gradiente descendente nos llevará a las mismas reglas ya conocidas.\n",
        "\n",
        "El algoritmo de optimización es:\n",
        "\n",
        "\\begin{align}\n",
        "w - η ∇_w L(y,\\hat{y}) \\rightarrow w \\\\\n",
        "b - η \\frac{∂}{∂ b}  L(y,\\hat{y}) \\rightarrow b \\\\\n",
        "\\end{align}\n",
        "\n",
        "Y las ecuaciones de actualización serán:\n",
        "\n",
        "\\begin{align}\n",
        "w + \\frac{η}{p} \\left[\\left(Y-\\hat{Y}\\right) \\odot \\left(\\frac{d\\hat{Y}}{dZ}\\right)\\right] X^T \\rightarrow w \\\\\n",
        "b + \\frac{η}{p} \\sum \\left[\\left(Y-\\hat{Y}\\right) \\odot \\left(\\frac{d\\hat{Y}}{dZ}\\right)\\right] \\rightarrow b \\\\\n",
        "\\end{align}\n",
        "\n",
        "Con algunas consideraciones a tomar, pues ya no serán vectores como anteriormente. Tanto $Y$ como $\\hat{Y}$ son matrices de tamaño $m \\times p$, la derivada con respecto a $Z$ es de $m \\times p$, la matriz transpuesta es de tamaño $p \\times n$, y la matriz $w$ es de tamaño $m \\times n$."
      ],
      "metadata": {
        "id": "Z67zRUmQPrqW"
      }
    },
    {
      "cell_type": "markdown",
      "source": [
        "# SoftMax"
      ],
      "metadata": {
        "id": "N3sVDrB_c0od"
      }
    },
    {
      "cell_type": "markdown",
      "source": [
        "Para clasificación multiclase, necesitamos otra función de activación. Para esto se utiliza la función de activación SoftMax, que se encarga de tomar las probabilidades de cada neurona y con base en esas probabilidaes decidiremos si una clase pertenece o no a un conjunto de clases\n",
        "\n",
        "![Imagen](https://www.researchgate.net/profile/Pengwei-Yang/publication/370277982/figure/fig2/AS:11431281153635439@1682516124753/Softmax-function-in-MLP-7.ppm)\n",
        "\n",
        "Dicho de otro modo, a la salida que obtengamos de cada neurona, $z_j$, debemos aplicar dicha función para asi obtener las probabilidades deseadas:\n",
        "\n",
        "$$S(z)_j = \\frac{e^{z_j}}{\\sum_{i-1}^{m} e^{z_j}}$$\n",
        "\n",
        "Esto nos dará las probabilidades normalizadas.\n",
        "\n",
        "Un problema con esta función de activación al momento de programarla, es que, el número de euler al estar elevado a grandes números puede provocar un desbordamiento de bits. Para solucionar este problema nos valdremos de algunos trucos matemáticos. La nueva función de activación queda:\n",
        "\n",
        "$$S(z)_j = \\frac{e^{z_j + D}}{\\sum_{i-1}^{m} e^{z_j + D}}$$\n",
        "\n",
        "Donde $D=- \\max \\left\\{z_1, z_2, ..., z_m \\right\\}$. Con esto ya tendremos un algoritmo estable.\n",
        "\n",
        "Sin ambargo, para usar esta función debemos usar unas funciones de costo particulares para no tener una regla de adaptación no tan compleja. Esta función de costo es el error de entropia cruzada categorica (para el caso logístico usamos la entropia cruzada binaria).\n",
        "\n",
        "Para el caso del error en linea nuestra función de costo es:\n",
        "\n",
        "$$E = - \\sum_{j=1}^{m} y_i \\log (\\hat{y}_i)$$\n",
        "\n",
        "Y para el caso del entrenamiento en lotes:\n",
        "\n",
        "$$E = - \\frac{1}{p} \\sum_{i=1}^{p} \\sum_{j=1}^{m} y_{j}^{(i)} \\log (\\hat{y}_{j}^{(i)})$$\n",
        "\n",
        "\n"
      ],
      "metadata": {
        "id": "8AAD96T1c4ke"
      }
    },
    {
      "cell_type": "markdown",
      "source": [
        "# Programando"
      ],
      "metadata": {
        "id": "FyGizDwNE6O2"
      }
    },
    {
      "cell_type": "code",
      "source": [
        "import numpy as np"
      ],
      "metadata": {
        "id": "guk85aumKpwQ"
      },
      "execution_count": 21,
      "outputs": []
    },
    {
      "cell_type": "code",
      "source": [
        "#Creamos las funciones de activacion con su derivada\n",
        "def linear(z, derivative=False):\n",
        "    a = z\n",
        "    #Calculamos la derivada de la funcion lineal\n",
        "    if derivative:\n",
        "        da = np.ones(z.shape) #vector de unos de las misma forma que z\n",
        "        return a, da\n",
        "    return a\n",
        "\n",
        "\n",
        "def sigmoid(z, derivative=False):\n",
        "    a = 1 / (1 + np.exp(-z))\n",
        "    if derivative:\n",
        "        da = a * (1 - a) #Sera producto elemento a alemento de un dos vectores\n",
        "        return a, da\n",
        "    return a\n",
        "\n",
        "def softmax(z, derivative=False):\n",
        "    e = np.exp(z - np.max(z, axis=0))\n",
        "    a = e / np.sum(e, axis=0)\n",
        "    if derivative:\n",
        "        da = np.ones(z.shape)\n",
        "        return a, da\n",
        "    return a\n",
        "\n",
        "\n",
        "#Creando la Clase\n",
        "class OneLayerNeural:\n",
        "    #Red neuronal de una capa\n",
        "    #Necesitamos el número de entradas y salidas (n,m) para inicializar\n",
        "    def __init__(self, n_inputs, n_outputs, activation_function, learning_rate=0.1):\n",
        "        self.w = -1 + 2*np.random.rand(n_outputs, n_inputs)\n",
        "        self.b = -1 + 2*np.random.rand(n_outputs, 1) #mandamos un 1 para que sea un vector columna\n",
        "        self.f = activation_function\n",
        "        self.eta = learning_rate\n",
        "\n",
        "    #Prediccion\n",
        "    def predict(self, X):\n",
        "        Z = np.dot(self.w, X) + self.b\n",
        "        return self.f(Z)\n",
        "\n",
        "    #Entrenamiento\n",
        "    def fit(self, X, Y, epochs=200):\n",
        "        p = X.shape[1] #numero de patrones (columnas)\n",
        "        for _ in range(epochs):\n",
        "            Z = np.dot(self.w, X) + self.b\n",
        "            Yest, dY = self.f(Z, derivative=True)\n",
        "            lg = (Y - Yest) * dY #Gradiente local\n",
        "            self.w += (self.eta/p) * np.dot(lg, X.T) #No aplicamos la regularizacion\n",
        "            self.b += (self.eta/p) * np.sum(lg, axis=1).reshape(-1,1) #axis=1 para sumar las columnas de cada fila y convertimos el vector a dos dimensiones\n"
      ],
      "metadata": {
        "id": "2gLG2NQlE5mD"
      },
      "execution_count": 26,
      "outputs": []
    },
    {
      "cell_type": "code",
      "source": [
        "#Ejemplos\n",
        "minx = -5\n",
        "maxx = 5\n",
        "\n",
        "classes = 4\n",
        "p_c = 20\n",
        "X = np.zeros((2, classes * p_c))\n",
        "Y = np.zeros((classes, classes * p_c))\n",
        "\n",
        "for i in range(classes):\n",
        "    seed=minx + (maxx-minx) * np.random.rand(2,1)\n",
        "    X[:, i*p_c:(i+1)*p_c] = seed + 0.15 * np.random.randn(2,p_c)\n",
        "    Y[i, i*p_c:(i+1)*p_c] = np.ones((1,p_c))\n",
        "\n",
        "#Problema sin entrenamiento\n",
        "net = OneLayerNeural(2, classes, softmax)\n",
        "#net.fit(X, Y, epochs=200)\n",
        "Ypred = net.predict(X)\n",
        "\n",
        "#Graficamos\n",
        "import matplotlib.pyplot as plt\n",
        "\n",
        "cm=[[1,1,0],[1,0,1],[0,1,1],[1,0,0],[0,1,0],[0,0,1],[1,1,1],[0,0,0]]\n",
        "\n",
        "fig, (ax1, ax2) = plt.subplots(1, 2, figsize=(12, 5))\n",
        "\n",
        "# Gráfico 1 - Problema original\n",
        "y_c = np.argmax(Y, axis=0)\n",
        "for i in range(X.shape[1]):\n",
        "    ax1.plot(X[0,i], X[1,i], '*', c=cm[y_c[i]])\n",
        "ax1.axis([-5.5,5.5,-5.5,5.5])\n",
        "ax1.set_title('Problema original')\n",
        "ax1.grid()\n",
        "# Gráfico 2 - Predicción de la red\n",
        "y_c = np.argmax(Ypred, axis=0)\n",
        "for i in range(X.shape[1]):\n",
        "    ax2.plot(X[0,i], X[1,i], '*', c=cm[y_c[i]])\n",
        "ax2.axis([-5.5,5.5,-5.5,5.5])\n",
        "ax2.set_title('Predicción de la red sin entrenar')\n",
        "ax2.grid()\n",
        "\n",
        "plt.show()"
      ],
      "metadata": {
        "colab": {
          "base_uri": "https://localhost:8080/",
          "height": 468
        },
        "id": "L7NKI3FinTqw",
        "outputId": "d5d46059-81d0-4ee2-9187-6b404c3ca856"
      },
      "execution_count": 48,
      "outputs": [
        {
          "output_type": "display_data",
          "data": {
            "text/plain": [
              "<Figure size 1200x500 with 2 Axes>"
            ],
            "image/png": "[encoded data removed]"
          },
          "metadata": {}
        }
      ]
    },
    {
      "cell_type": "code",
      "source": [
        "#Problema con entrenamiento\n",
        "net = OneLayerNeural(2, classes, softmax)\n",
        "net.fit(X, Y, epochs=200)\n",
        "Ypred = net.predict(X)\n",
        "\n",
        "#Grafico\n",
        "fig, (ax1, ax2) = plt.subplots(1, 2, figsize=(12, 5))\n",
        "\n",
        "# Gráfico 1 - Problema original\n",
        "y_c = np.argmax(Y, axis=0)\n",
        "for i in range(X.shape[1]):\n",
        "    ax1.plot(X[0,i], X[1,i], '*', c=cm[y_c[i]])\n",
        "ax1.axis([-5.5,5.5,-5.5,5.5])\n",
        "ax1.set_title('Problema original')\n",
        "ax1.grid()\n",
        "# Gráfico 2 - Predicción de la red\n",
        "y_c = np.argmax(Ypred, axis=0)\n",
        "for i in range(X.shape[1]):\n",
        "    ax2.plot(X[0,i], X[1,i], '*', c=cm[y_c[i]])\n",
        "ax2.axis([-5.5,5.5,-5.5,5.5])\n",
        "ax2.set_title('Predicción de la red con entrenamiento')\n",
        "ax2.grid()\n",
        "\n",
        "plt.show()"
      ],
      "metadata": {
        "colab": {
          "base_uri": "https://localhost:8080/",
          "height": 468
        },
        "id": "K41L_V4kq2h4",
        "outputId": "205d13f3-076b-4c47-b9fb-91849efc6747"
      },
      "execution_count": 49,
      "outputs": [
        {
          "output_type": "display_data",
          "data": {
            "text/plain": [
              "<Figure size 1200x500 with 2 Axes>"
            ],
            "image/png": "[encoded data removed]"
          },
          "metadata": {}
        }
      ]
    },
    {
      "cell_type": "code",
      "source": [],
      "metadata": {
        "id": "K-61W0uxv2U3"
      },
      "execution_count": null,
      "outputs": []
    }
  ]
}

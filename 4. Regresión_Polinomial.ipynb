{
  "nbformat": 4,
  "nbformat_minor": 0,
  "metadata": {
    "colab": {
      "provenance": [],
      "authorship_tag": "ABX9TyPVjBC49YqgzDHaKBHLRr9c"
    },
    "kernelspec": {
      "name": "python3",
      "display_name": "Python 3"
    },
    "language_info": {
      "name": "python"
    }
  },
  "cells": [
    {
      "cell_type": "markdown",
      "source": [
        "# Regresión Polinomial"
      ],
      "metadata": {
        "id": "WJIgd2HX5YJI"
      }
    },
    {
      "cell_type": "markdown",
      "source": [
        "La regresión polinomial es una técnica utilizada en estadísticas y aprendizaje automático para modelar relaciones no lineales entre las variables independientes (características) y la variable dependiente (objetivo). Mientras que la regresión lineal ajusta una línea recta a los datos, la regresión polinomial utiliza polinomios de grado superior para ajustarse a patrones más complejos. Para ello debemos realizar un mapeo polinomial a nuestro vector de caracteristicas de dimensión $\\mathbb{R}^n$ para pasar a una dimensión $\\mathbb{R}^m$, donde $m>n$.\n",
        "\n",
        "Es decir si tenemos un vector con una variable independiente $x_1$ y aplicamos una expansión polinomial de grado 3, obtendremos un vector transformado de la forma $x_1, x_1^2, x_1^3$. Por lo tanto a mayor mapeo polinomial tendremos mas grados de libertad para que la neurona pueda \"aprender\""
      ],
      "metadata": {
        "id": "1RmpADbK5b9P"
      }
    },
    {
      "cell_type": "markdown",
      "source": [
        "Es tentador aumentar el grado al mapeo polinomial, ya que la neurona tendrá mucha mas libertad para ajustarse, por ello se dice que el problema se vuelve más fácil cuando se aumenta la dimensión. Sin embargo, realizar este procedimiento puede ocasionar que la neurona comienze a aprender los errores de los datos, provocando un sobreajuste. En este caso nos enfrentamos a un dilema, entre aumentar la complejidad y tener problemas de sobreentrenamiento o quedarnos con un modelo sencillo y tener problemas de subentrenamiento.\n",
        "\n",
        "La regularización es un conjunto de técnicas utilizadas para prevenir el sobreajuste en modelos de regresión, donde el modelo se adapta demasiado a los datos de entrenamiento y tiene dificultades para generalizar a nuevos datos, a la vez que nos ayuda a determinar la cantidad óptima de variables independientes (una vez aplicado el mapeo polinomial) para asi tener una buena generalización del modelo."
      ],
      "metadata": {
        "id": "ywcjAvs773SW"
      }
    },
    {
      "cell_type": "markdown",
      "source": [
        "## Regulación Ridge"
      ],
      "metadata": {
        "id": "kBq1vRCV-H0n"
      }
    },
    {
      "cell_type": "markdown",
      "source": [
        "La regularización Ridge, también conocida como L2, agrega un término de penalización a la función de costo del modelo, proporcional al cuadrado de los valores de los coeficientes. Con esto se previene coeficientes excesivamente grandes, reduciendo así la complejidad del modelo.\n",
        "\n",
        "Por lo tanto, modificando la función de costo de error en linea, la nueva función de costo es:\n",
        "\n",
        "$$L(y,\\hat{y}) = \\frac{1}{2}(y - \\hat{y})^2 + \\frac{\\alpha}{2} \\Vert w \\Vert_2^2$$\n",
        "\n",
        "Realizando el gradiente descendente, tenemos:\n",
        "\n",
        "$$∇_w L(y,\\hat{y}) = -(y - \\hat{y})x^T + \\alpha w$$\n",
        "\n",
        "La ecuación de actualización para w queda:\n",
        "\n",
        "$$w(1-\\eta \\alpha) + η (y - \\hat{y}) x^T \\rightarrow w $$\n",
        "\n"
      ],
      "metadata": {
        "id": "V8SrskvW-OhO"
      }
    },
    {
      "cell_type": "markdown",
      "source": [
        "Si queremos usar la regla delta, tendremos la siguiente función de costo:\n",
        "\n",
        "$$L(y,\\hat{y}) = \\frac{1}{2p}\\sum_{i=1}^p \\left(y^{(i)} - \\hat{y}^{(i)}\\right) + \\frac{\\alpha}{2} \\Vert w \\Vert_2^2$$\n",
        "\n",
        "Entonces, tenemos la siguiente regla de actualización:\n",
        "\n",
        "$$w(1-\\eta \\alpha) + η \\left[\\left(Y-\\hat{Y}\\right) \\odot \\left(\\frac{d\\hat{Y}}{dZ}\\right)\\right] X^T \\rightarrow w$$"
      ],
      "metadata": {
        "id": "7q0xgkLmB6tN"
      }
    },
    {
      "cell_type": "markdown",
      "source": [
        "## Programando la regresión polinómica"
      ],
      "metadata": {
        "id": "OiUDUV3MCQl2"
      }
    },
    {
      "cell_type": "code",
      "source": [
        "import matplotlib.pyplot as plt\n",
        "import numpy as np\n",
        "import seaborn as sns\n",
        "# Establecer el estilo 'seaborn'\n",
        "sns.set(style=\"darkgrid\")"
      ],
      "metadata": {
        "id": "QKgOkhO4E_b2"
      },
      "execution_count": 2,
      "outputs": []
    },
    {
      "cell_type": "code",
      "execution_count": 3,
      "metadata": {
        "id": "UFd5YNUU3ZLP"
      },
      "outputs": [],
      "source": [
        "#Creamos las funciones de activacion con su derivada\n",
        "def linear(z, derivative=False):\n",
        "  a = z\n",
        "  #Calculamos la derivada de la funcion lineal\n",
        "  if derivative:\n",
        "    da = np.ones(z.shape) #vector de unos de las misma forma que z\n",
        "    return a, da\n",
        "  return a\n",
        "\n",
        "\n",
        "def sigmoid(z, derivative=False):\n",
        "  a = 1 / (1 + np.exp(-z))\n",
        "  if derivative:\n",
        "    da = a * (1 - a) #Sera producto elemento a alemento de un dos vectores\n",
        "    return a, da\n",
        "  return a\n",
        "\n",
        "\n",
        "def tanh(z, derivative=False):\n",
        "  a = np.tanh(z)\n",
        "  if derivative:\n",
        "    da = (1+a) * (1-a)\n",
        "    return a, da\n",
        "  return a\n",
        "\n",
        "\n",
        "def relu(z, derivative=False):\n",
        "  a = z * (z >= 0) #Devolvera vector de True o False, multiplicamos por z para obtener los True\n",
        "  if derivative:\n",
        "    da = np.array(z >= 0, dtype=np.float32) #vector de 1\n",
        "    return a, da\n",
        "  return a\n",
        "\n",
        "\n",
        "#Creamos la clase con el numero de entradas, la funcion de activacion (por defecto la lineal) y el factor de aprendizaje\n",
        "class neuron:\n",
        "  def __init__(self, n_inputs, act_fun=linear, learning_rate=0.1):\n",
        "    self.w = -1+2*np.random.rand(n_inputs)\n",
        "    self.b = -1+2*np.random.rand()\n",
        "    self.eta = learning_rate\n",
        "    self.f = act_fun\n",
        "\n",
        "  #Creamos el metodo de prediccion\n",
        "  def predict(self, X):\n",
        "    Z = np.dot(self.w, X) + self.b\n",
        "    return self.f(Z) #Retornamos la funcion de activación\n",
        "\n",
        "  #Creamos el metodo para el entrenamiento\n",
        "  def fit(self, X, Y, epochs=100, alpha = 0): #Añadimos alpha\n",
        "    #Numero de patrones necesarios, de acuerdo a la segunda dimension de X\n",
        "    p = X.shape[1]\n",
        "    #Implementamos el error cuadratico medio\n",
        "    for _ in range(epochs):\n",
        "      #Propagacion\n",
        "      Z = np.dot(self.w, X) + self.b\n",
        "      Yest, dy = self.f(Z, derivative=True)\n",
        "      #Entrenamiento\n",
        "      lg = (Y - Yest) * (dy)\n",
        "      self.w = (1-self.eta*alpha)*self.w + (self.eta/p) * np.dot(lg, X.T).ravel() #añadimos w(1-alpha eta)\n",
        "      self.b += (self.eta/p) * np.sum(lg)"
      ]
    },
    {
      "cell_type": "code",
      "source": [
        "#Ejemplos\n",
        "example = 1\n",
        "\n",
        "if example == 1:\n",
        "  X = np.array([[0,0,1,1],\n",
        "                [0,1,0,1]])\n",
        "  Y = np.array([[0,0,0,1]])\n",
        "\n",
        "  #instanciamos con el nombre de neurona\n",
        "  neurona = neuron(2, sigmoid, 0.9)\n",
        "  neurona.fit(X,Y, epochs=500, alpha=0.001)\n",
        "\n",
        "  p = X.shape[1]\n",
        "  for i in range(p):\n",
        "    if Y[0,i] == 0:\n",
        "      plt.plot(X[0,i], X[1,i], \"ob\")\n",
        "    else:\n",
        "      plt.plot(X[0,i], X[1,i], \"or\")\n",
        "\n",
        "  w1, w2, b = neurona.w[0], neurona.w[1], neurona.b\n",
        "  plt.plot([-2,2], [(1/w2)*(-w1*(-2)-b), (1/w2)*(-w1*2-b)], \"--k\")\n",
        "\n",
        "  plt.xlim([-1,2])\n",
        "  plt.ylim([-1,2])\n",
        "  plt.xlabel(\"X_1\")\n",
        "  plt.ylabel(\"X_2\")\n",
        "\n",
        "else:\n",
        "  p = 100\n",
        "  x = -1+2*np.random.rand(p).reshape(1,-1)\n",
        "  y = -18*x+6+2.5*np.random.randn(p)\n",
        "  plt.plot(x,y,\".b\")\n",
        "\n",
        "  #instanciamos con el nombre de neurona\n",
        "  neurona = neuron(1, linear, 0.1)\n",
        "  neurona.fit(x,y, epochs=100)\n",
        "\n",
        "  xn = np.array([[-1,1]])\n",
        "  plt.plot(xn.ravel(), neurona.predict(xn), \"--r\")"
      ],
      "metadata": {
        "colab": {
          "base_uri": "https://localhost:8080/",
          "height": 464
        },
        "id": "EmaZ9qSrFRO1",
        "outputId": "9af8f2c0-ed48-4b55-9e21-73fe887f91d1"
      },
      "execution_count": 5,
      "outputs": [
        {
          "output_type": "display_data",
          "data": {
            "text/plain": [
              "<Figure size 640x480 with 1 Axes>"
            ],
            "image/png": "[encoded data removed]"
          },
          "metadata": {}
        }
      ]
    },
    {
      "cell_type": "code",
      "source": [],
      "metadata": {
        "id": "vXc-KEJBFfFO"
      },
      "execution_count": null,
      "outputs": []
    }
  ]
}
